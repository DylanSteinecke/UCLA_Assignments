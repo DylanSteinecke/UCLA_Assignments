{
 "cells": [
  {
   "cell_type": "code",
   "execution_count": 1,
   "id": "c3679e05",
   "metadata": {},
   "outputs": [],
   "source": [
    "import json, csv, pandas as pd, numpy as np, parse_xml\n",
    "import matplotlib.pyplot as plt\n",
    "from lxml import etree\n",
    "import xml.etree.ElementTree as ET\n",
    "from multiprocessing import Pool, cpu_count\n",
    "from multiprocessing import Process"
   ]
  },
  {
   "cell_type": "markdown",
   "id": "6933c69b",
   "metadata": {},
   "source": [
    "#### Functions for extracting data from the DrugBank xml file"
   ]
  },
  {
   "cell_type": "code",
   "execution_count": null,
   "id": "cf0f7709",
   "metadata": {},
   "outputs": [],
   "source": [
    "# Modified By Thai Tran and provided by Ping lab, modofied by me (Dylan Steinecke) https://github.com/CaseOLAP/covid-cvd-knowledgegraph/blob/main/01_DrugBankXML_CVDrugs_Extraction/parse_xml.py\n",
    "\n",
    "class ParseXML():\n",
    "    '''\n",
    "    This is the class for parsing the DrugBank XML file to extract relevant information (ID, name, entities, etc.) for cardiovascular drugs. \n",
    "    '''\n",
    "    def getID(ele):\n",
    "        '''\n",
    "        @param ele is the element in XML root\n",
    "        @return ID is the DrugBank accession number/ID of the element (drug)\n",
    "        '''\n",
    "        try:\n",
    "            ID = ele.find(\"{http://www.drugbank.ca}drugbank-id\").text\n",
    "        except:\n",
    "            ID = \"Null\"\n",
    "        return ID\n",
    "\n",
    "    def getName(ele):\n",
    "        '''\n",
    "        @param ele is the element in XML root\n",
    "        @return name is the name of the element (drug)\n",
    "        '''\n",
    "        try:\n",
    "            name = ele.find(\"{http://www.drugbank.ca}name\").text\n",
    "        except:\n",
    "            name = \"Null\"\n",
    "        return name\n",
    "\n",
    "    def getEntities(ele, entity_type):\n",
    "        \n",
    "        '''\n",
    "        @param ele is the element in XML root\n",
    "        @param entity_type is one of the following: 'carriers', 'targets', 'transporters' , 'enzymes'\n",
    "        @return allEntities is the list of all entities (carriers, targets, transporters, or enzymes) for the element (drug). \n",
    "        Each element in the list contains the name, DrugBank accession number/ID, list of actions, and UniProt ID of the element. \n",
    "        '''\n",
    "\n",
    "        allEntities =  []\n",
    "        try:\n",
    "            entity = ele.find('{http://www.drugbank.ca}' + entity_type).\\\n",
    "                            findall('{http://www.drugbank.ca}' +\\\n",
    "                            entity_type[:len(entity_type)-1])\n",
    "            for child in entity:\n",
    "                if child.find('{http://www.drugbank.ca}organism').text=='Humans':\n",
    "                    entity_dict = {}\n",
    "                    #find entity name-------------------------\n",
    "                    try:\n",
    "                        e_name = child.find('{http://www.drugbank.ca}name').text\n",
    "                    except:\n",
    "                        e_name = \"Null\"\n",
    "\n",
    "                    # find actions------------------------------------    \n",
    "                    try:\n",
    "                        e_actions = []\n",
    "                        for term in list(child.find('{http://www.drugbank.ca}actions')):\n",
    "                            e_actions.append(term.text)\n",
    "                    except:\n",
    "                        e_actions = \"Null\"\n",
    "\n",
    "                    # find entity drugbank ids------------------------------\n",
    "                    try:\n",
    "                        e_id = child.find('{http://www.drugbank.ca}id').text\n",
    "                    except:\n",
    "                        e_name = \"Null\"\n",
    "\n",
    "                    # find entity Uniprot ids------------------------------    \n",
    "                    try:\n",
    "                        e_uid = child.find('{http://www.drugbank.ca}polypeptide').\\\n",
    "                                        get('id')\n",
    "                    except:\n",
    "                        e_uid = \"Null\"\n",
    "\n",
    "                    entity_dict.update({\"name\": e_name,\\\n",
    "                                    \"drugbank_id\": e_id,\\\n",
    "                                    \"actions\" : e_actions,\\\n",
    "                                    \"uniprot_id\" : e_uid}) \n",
    "                    allEntities.append(entity_dict)\n",
    "        except:\n",
    "            allEntities = []\n",
    "                \n",
    "        return allEntities"
   ]
  },
  {
   "cell_type": "markdown",
   "id": "3a5b8355",
   "metadata": {},
   "source": [
    "#### Download"
   ]
  },
  {
   "cell_type": "code",
   "execution_count": null,
   "id": "a1451ba1",
   "metadata": {},
   "outputs": [],
   "source": [
    "''' You need an authorized DrugBank account for this '''\n",
    "# ! curl -Lfv -o input/drugbank_all_full_database.xml.zip -u USERNAME:PASSWORD https://go.drugbank.com/releases/5-1-9/downloads/all-full-database\n",
    "#! unzip input/drugbank_all_full_database.xml.zip\n",
    "#! mv 'full database.xml' full_drugbank.xml"
   ]
  },
  {
   "cell_type": "markdown",
   "id": "e45b4875",
   "metadata": {},
   "source": [
    "#### Parse"
   ]
  },
  {
   "cell_type": "code",
   "execution_count": 6,
   "id": "e6f483d3",
   "metadata": {},
   "outputs": [],
   "source": [
    "path_where_drugbank_xml_is = 'full_drugbank.xml'\n",
    "tree = ET.parse(path_where_drugbank_xml_is)\n",
    "root = tree.getroot()"
   ]
  },
  {
   "cell_type": "markdown",
   "id": "c50dce4e",
   "metadata": {},
   "source": [
    "#### Get summary stats"
   ]
  },
  {
   "cell_type": "code",
   "execution_count": 118,
   "id": "dc12dc17",
   "metadata": {},
   "outputs": [
    {
     "name": "stdout",
     "output_type": "stream",
     "text": [
      "14594 total drugs\n",
      "\n",
      "5804 Drugs with Targets\n",
      "612 Drugs with Carriers\n",
      "1050 Drugs with Transporters\n",
      "1737 Drugs with Enzymes\n",
      "\n",
      "2801 Targets\n",
      "75 Carriers\n",
      "258 Transporter\n",
      "393 Enzymes\n",
      "\n",
      "14421 Drug-Target Relationships\n",
      "866 Drug-Carrier Relationships\n",
      "3214 Drug-Transporter Relationships\n",
      "5360 Drug-Enzyme Relationships\n"
     ]
    }
   ],
   "source": [
    "all_drugs = set()\n",
    "drug2targets, drug2carriers, drug2transporters, drug2enzyme= dict(), dict(), dict(), dict()\n",
    "drug_target_rels, drug_carrier_rels, drug_transporter_rels, drug_enzyme_rels = 0, 0, 0, 0    \n",
    "drug_carriers, drug_targets, drug_transporters, drug_enzymes = set(), set(), set(), set()\n",
    "drugs_with_targets, drugs_with_carriers, drugs_with_transporters, drugs_with_enzymes = set(), set(), set(), set()\n",
    "\n",
    "# Drugs\n",
    "for count, ele in enumerate(root):\n",
    "    drug_id = ParseXML.getID(ele)\n",
    "    all_drugs.add(drug_id)\n",
    "    \n",
    "    # Relationships\n",
    "    for relation in ['carriers', 'targets', 'transporters' , 'enzymes']:\n",
    "        \n",
    "        # Proteins\n",
    "        proteins = ParseXML.getEntities(ele, relation)\n",
    "        for protein in proteins:\n",
    "            protein_id = protein['uniprot_id']\n",
    "            if(protein_id != 'Null'):\n",
    "\n",
    "                # Drug-Protein\n",
    "                if(relation == 'targets'):\n",
    "                    drug2targets.setdefault(drug_id,[]).append(protein_id)\n",
    "                    drug_target_rels += 1\n",
    "                    drug_targets.add(protein_id)\n",
    "                    drugs_with_targets.add(drug_id)\n",
    "                elif(relation == 'carriers'):\n",
    "                    drug2carriers.setdefault(drug_id,[]).append(protein_id)\n",
    "                    drug_carrier_rels += 1\n",
    "                    drug_carriers.add(protein_id)\n",
    "                    drugs_with_carriers.add(drug_id)\n",
    "\n",
    "                elif(relation == 'transporters'):\n",
    "                    drug2transporters.setdefault(drug_id,[]).append(protein_id)\n",
    "                    drug_transporter_rels += 1\n",
    "                    drug_transporters.add(protein_id)\n",
    "                    drugs_with_transporters.add(drug_id)\n",
    "                elif(relation == 'enzymes'):\n",
    "                    drug2enzyme.setdefault(drug_id,[]).append(protein_id)\n",
    "                    drug_enzyme_rels += 1\n",
    "                    drug_enzymes.add(protein_id)   \n",
    "                    drugs_with_enzymes.add(drug_id)\n",
    "                    \n",
    "print(len(all_drugs), 'total drugs')\n",
    "print('')\n",
    "print(len(drugs_with_targets), 'Drugs with Targets')\n",
    "print(len(drugs_with_carriers), 'Drugs with Carriers')\n",
    "print(len(drugs_with_transporters), 'Drugs with Transporters')\n",
    "print(len(drugs_with_enzymes), 'Drugs with Enzymes')\n",
    "print('')\n",
    "print(len(drug_targets), 'Targets')\n",
    "print(len(drug_carriers), 'Carriers')\n",
    "print(len(drug_transporters), 'Transporter')\n",
    "print(len(drug_enzymes), 'Enzymes')\n",
    "print('')\n",
    "print(drug_target_rels, 'Drug-Target Relationships')\n",
    "print(drug_carrier_rels, 'Drug-Carrier Relationships')\n",
    "print(drug_transporter_rels, 'Drug-Transporter Relationships')\n",
    "print(drug_enzyme_rels, 'Drug-Enzyme Relationships')"
   ]
  },
  {
   "cell_type": "code",
   "execution_count": 120,
   "id": "0c5f10d1",
   "metadata": {
    "scrolled": true
   },
   "outputs": [
    {
     "name": "stdout",
     "output_type": "stream",
     "text": [
      "Top 5 [298, 145, 144, 124, 124]\n"
     ]
    },
    {
     "data": {
      "image/png": "[encoded data removed]",
      "text/plain": [
       "<Figure size 432x288 with 1 Axes>"
      ]
     },
     "metadata": {
      "needs_background": "light"
     },
     "output_type": "display_data"
    }
   ],
   "source": [
    "num_targets = sorted([len(targets) for targets in drug2targets.values()])\n",
    "plt.title('# Drug Targets per Drug (excluding 5 highest)')\n",
    "plt.hist(num_targets[:-5], bins = 100);\n",
    "print('Top 5', sorted(num_targets, reverse = True)[:5])"
   ]
  },
  {
   "cell_type": "code",
   "execution_count": 107,
   "id": "e84dff3f",
   "metadata": {},
   "outputs": [
    {
     "data": {
      "image/png": "[encoded data removed]",
      "text/plain": [
       "<Figure size 432x288 with 1 Axes>"
      ]
     },
     "metadata": {
      "needs_background": "light"
     },
     "output_type": "display_data"
    }
   ],
   "source": [
    "plt.title('# Drug Targets per Drug (log scaled x-axis)')\n",
    "plt.hist([np.log(num_targ) for num_targ in num_targets]);"
   ]
  },
  {
   "cell_type": "code",
   "execution_count": 72,
   "id": "39e3c90d",
   "metadata": {},
   "outputs": [
    {
     "name": "stdout",
     "output_type": "stream",
     "text": [
      "1 minimum #targets\n",
      "298 maximum #targets\n",
      "2.485 average #targets\n",
      "1.0 median #targets\n"
     ]
    }
   ],
   "source": [
    "print(min(num_targets), 'minimum #targets')\n",
    "print(max(num_targets), 'maximum #targets')\n",
    "print(round(np.mean(num_targets), 3), 'average #targets')\n",
    "print(np.median(num_targets), 'median #targets')"
   ]
  },
  {
   "cell_type": "code",
   "execution_count": 121,
   "id": "39763d50",
   "metadata": {},
   "outputs": [
    {
     "name": "stdout",
     "output_type": "stream",
     "text": [
      "Total Drug-action-Target Relationships: 2261 7498 2802\n",
      "Unique Actions: 47 \n",
      "Unique Proteins: 2802 \n",
      "Unique Drugs: 2261\n",
      "Actions:\n"
     ]
    },
    {
     "data": {
      "text/plain": [
       "{'inhibitor': 2422,\n",
       " 'antagonist': 1693,\n",
       " 'agonist': 1240,\n",
       " 'binder': 377,\n",
       " 'ligand': 335,\n",
       " 'cofactor': 193,\n",
       " 'activator': 176,\n",
       " 'potentiator': 146,\n",
       " 'inducer': 118,\n",
       " 'partial agonist': 94,\n",
       " 'substrate': 84,\n",
       " 'antibody': 82,\n",
       " 'modulator': 74,\n",
       " 'positive allosteric modulator': 69,\n",
       " 'other/unknown': 63,\n",
       " 'product of': 41,\n",
       " 'blocker': 35,\n",
       " 'negative modulator': 33,\n",
       " 'other': 31,\n",
       " 'inverse agonist': 27,\n",
       " 'stimulator': 21,\n",
       " 'unknown': 18,\n",
       " 'chaperone': 17,\n",
       " 'downregulator': 16,\n",
       " 'regulator': 14,\n",
       " 'allosteric modulator': 11,\n",
       " 'stabilization': 9,\n",
       " 'binding': 9,\n",
       " 'multitarget': 7,\n",
       " 'inactivator': 6,\n",
       " 'cleavage': 5,\n",
       " 'antisense oligonucleotide': 4,\n",
       " 'chelator': 4,\n",
       " 'component of': 4,\n",
       " 'suppressor': 3,\n",
       " 'neutralizer': 3,\n",
       " 'oxidizer': 3,\n",
       " 'inhibitory allosteric modulator': 2,\n",
       " 'partial antagonist': 1,\n",
       " 'degradation': 1,\n",
       " 'incorporation into and destabilization': 1,\n",
       " 'weak inhibitor': 1,\n",
       " 'nucleotide exchange blocker': 1,\n",
       " 'inhibition of synthesis': 1,\n",
       " 'translocation inhibitor': 1,\n",
       " 'gene replacement': 1,\n",
       " 'inhibits downstream inflammation cascades': 1}"
      ]
     },
     "execution_count": 121,
     "metadata": {},
     "output_type": "execute_result"
    }
   ],
   "source": [
    "drugwithtarget = 0\n",
    "num_actions, numproteins = 0, 0 \n",
    "uniq_acts, uniqprotein, unique_drug = dict(), set(), set()  \n",
    "for ele in root:\n",
    "    ID = ParseXML.getID(ele)\n",
    "    proteins = ParseXML.getEntities(ele, 'targets')\n",
    "\n",
    "    if len(proteins) > 0:\n",
    "        drugwithtarget += 1\n",
    "        has_action = False\n",
    "        for protein in proteins:\n",
    "            protein_id = protein['uniprot_id']\n",
    "            actions = protein['actions']\n",
    "            uniqprotein.add(protein_id)\n",
    "             \n",
    "            if(protein_id != 'Null'):\n",
    "                if len(actions) > 0:\n",
    "                    has_action = True\n",
    "                    for action in actions:\n",
    "\n",
    "                        # DrugBank Drug\n",
    "                        uniq_acts.setdefault(action,0)\n",
    "                        num_actions += 1\n",
    "                        uniq_acts[action] += 1                                \n",
    "\n",
    "        if has_action == True:\n",
    "            unique_drug.add(ID)\n",
    "numproteins = len(uniqprotein)\n",
    "num_drugs = len(unique_drug)\n",
    "\n",
    "print('Total Drug-action-Target Relationships:',num_drugs, num_actions, numproteins)\n",
    "print('Unique Actions:',len(uniq_acts), '\\nUnique Proteins:',len(uniqprotein), '\\nUnique Drugs:',len(unique_drug))\n",
    "\n",
    "print('Actions:')\n",
    "sorted_uniq_acts = dict(sorted(uniq_acts.items(), key=lambda x:x[1], reverse=True))\n",
    "sorted_uniq_acts"
   ]
  }
 ],
 "metadata": {
  "kernelspec": {
   "display_name": "Python 3 (ipykernel)",
   "language": "python",
   "name": "python3"
  },
  "language_info": {
   "codemirror_mode": {
    "name": "ipython",
    "version": 3
   },
   "file_extension": ".py",
   "mimetype": "text/x-python",
   "name": "python",
   "nbconvert_exporter": "python",
   "pygments_lexer": "ipython3",
   "version": "3.9.7"
  }
 },
 "nbformat": 4,
 "nbformat_minor": 5
}
